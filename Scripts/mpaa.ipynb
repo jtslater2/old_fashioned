{
 "cells": [
  {
   "cell_type": "markdown",
   "metadata": {},
   "source": [
    "## Observations and Insights "
   ]
  },
  {
   "cell_type": "markdown",
   "metadata": {},
   "source": []
  },
  {
   "cell_type": "code",
   "execution_count": 26,
   "metadata": {},
   "outputs": [
    {
     "data": {
      "text/plain": [
       "array(['13+', '18+', '7+', nan, 'all', '16+'], dtype=object)"
      ]
     },
     "execution_count": 26,
     "metadata": {},
     "output_type": "execute_result"
    }
   ],
   "source": [
    "# Dependencies and Setup\n",
    "import matplotlib.pyplot as plt\n",
    "import pandas as pd\n",
    "import scipy.stats as st\n",
    "from scipy.stats import linregress\n",
    "import os\n",
    "import urllib\n",
    "import csv\n",
    "import glob\n",
    "import numpy as np\n",
    "\n",
    "\n",
    "\n",
    "#\n",
    "tv_movies_df = pd.read_csv(\"..\\Final_Datasets\\MergedTVandMovies.csv\", dtype='unicode', encoding='utf8' )    \n",
    "tv_movies_df.head()\n",
    "\n",
    "\n",
    "#combine_df\n",
    "tv_movies_df.head()\n",
    "tv_movies_df1 =tv_movies_df.drop('Unnamed: 0',axis=1)\n",
    "tv_movies_df1.head()\n",
    "\n",
    "age_sets = tv_movies_df1[\"Age\"].unique()\n",
    "age_sets"
   ]
  },
  {
   "cell_type": "code",
   "execution_count": 25,
   "metadata": {},
   "outputs": [
    {
     "name": "stdout",
     "output_type": "stream",
     "text": [
      "                                Title  Year  Age  IMDb Rotten Tomatoes  \\\n",
      "0                           Inception  2010  13+   8.8             87%   \n",
      "1                          The Matrix  1999  18+   8.7             87%   \n",
      "2              Avengers: Infinity War  2018  13+   8.5             84%   \n",
      "3                  Back to the Future  1985   7+   8.5             96%   \n",
      "4      The Good, the Bad and the Ugly  1966  18+   8.8             97%   \n",
      "...                               ...   ...  ...   ...             ...   \n",
      "16738    Whispers: An Elephant's Tale  2000  all   5.0             NaN   \n",
      "16739       The Ghosts of Buxley Hall  1980  NaN   6.2             NaN   \n",
      "16740                  The Poof Point  2001   7+   4.7             NaN   \n",
      "16741           Sharks of Lost Island  2013  NaN   5.7             NaN   \n",
      "16742              Man Among Cheetahs  2017  NaN   6.6             NaN   \n",
      "\n",
      "      Netflix Hulu Prime Video Disney+ Type                       Directors  \\\n",
      "0           1    0           0       0    0               Christopher Nolan   \n",
      "1           1    0           0       0    0  Lana Wachowski,Lilly Wachowski   \n",
      "2           1    0           0       0    0         Anthony Russo,Joe Russo   \n",
      "3           1    0           0       0    0                 Robert Zemeckis   \n",
      "4           1    0           1       0    0                    Sergio Leone   \n",
      "...       ...  ...         ...     ...  ...                             ...   \n",
      "16738       0    0           0       1    0                  Dereck Joubert   \n",
      "16739       0    0           0       1    0                    Bruce Bilson   \n",
      "16740       0    0           0       1    0                     Neal Israel   \n",
      "16741       0    0           0       1    0                    Neil Gelinas   \n",
      "16742       0    0           0       1    0            Richard Slater-Jones   \n",
      "\n",
      "                                 Genres                       Country  \\\n",
      "0      Action,Adventure,Sci-Fi,Thriller  United States,United Kingdom   \n",
      "1                         Action,Sci-Fi                 United States   \n",
      "2               Action,Adventure,Sci-Fi                 United States   \n",
      "3               Adventure,Comedy,Sci-Fi                 United States   \n",
      "4                               Western      Italy,Spain,West Germany   \n",
      "...                                 ...                           ...   \n",
      "16738                  Adventure,Family                 United States   \n",
      "16739      Comedy,Family,Fantasy,Horror                 United States   \n",
      "16740              Comedy,Family,Sci-Fi                 United States   \n",
      "16741                       Documentary                 United States   \n",
      "16742                       Documentary                 United States   \n",
      "\n",
      "                      Language Runtime movies shows  \n",
      "0      English,Japanese,French     148  Movie   NaN  \n",
      "1                      English     136  Movie   NaN  \n",
      "2                      English     149  Movie   NaN  \n",
      "3                      English     116  Movie   NaN  \n",
      "4                      Italian     161  Movie   NaN  \n",
      "...                        ...     ...    ...   ...  \n",
      "16738                  English      72  Movie   NaN  \n",
      "16739                  English     120  Movie   NaN  \n",
      "16740                  English      90  Movie   NaN  \n",
      "16741                  English     NaN  Movie   NaN  \n",
      "16742                  English     NaN  Movie   NaN  \n",
      "\n",
      "[16173 rows x 17 columns]\n"
     ]
    }
   ],
   "source": [
    "tv_movies_df1[\"IMDb\"] = tv_movies_df1[\"IMDb\"].astype(float)\n",
    "\n",
    "test_df = tv_movies_df1.loc[(tv_movies_df1[\"movies\"] ==\"Movie\") &\n",
    "                            (tv_movies_df1[\"IMDb\"] >=0)]\n",
    "                                      \n",
    "                                     \n",
    "                             \n",
    "                             \n",
    "print (test_df)"
   ]
  },
  {
   "cell_type": "code",
   "execution_count": null,
   "metadata": {},
   "outputs": [],
   "source": []
  },
  {
   "cell_type": "code",
   "execution_count": 5,
   "metadata": {},
   "outputs": [],
   "source": [
    "# Find any duplicate rows with the same Mouse ID's and Timepoints. \n",
    "\n",
    "#create drop_df by dropping matching values of Mouse ID & Timepoint\n",
    "#drop_df = combine_df.drop_duplicates([\"Mouse ID\",\"Timepoint\"])\n",
    "\n",
    "#drop_df"
   ]
  },
  {
   "cell_type": "code",
   "execution_count": 51,
   "metadata": {},
   "outputs": [],
   "source": [
    "# Drop any duplicate rows\n",
    "#see above"
   ]
  },
  {
   "cell_type": "code",
   "execution_count": 52,
   "metadata": {},
   "outputs": [
    {
     "name": "stdout",
     "output_type": "stream",
     "text": [
      "The second mouse count = 249\n"
     ]
    }
   ],
   "source": [
    "# Recheck the number of mice\n",
    "#mouse2_count = len(drop_df[\"Mouse ID\"].unique())\n",
    "\n",
    "#print(f\"The second mouse count = {mouse2_count}\")\n"
   ]
  },
  {
   "cell_type": "markdown",
   "metadata": {},
   "source": [
    "## Summary Statistics"
   ]
  },
  {
   "cell_type": "code",
   "execution_count": 14,
   "metadata": {},
   "outputs": [
    {
     "data": {
      "text/plain": [
       "<bound method GroupBy.mean of <pandas.core.groupby.generic.SeriesGroupBy object at 0x000001D3F8E52550>>"
      ]
     },
     "execution_count": 14,
     "metadata": {},
     "output_type": "execute_result"
    }
   ],
   "source": [
    "# Generate a summary statistics table of mean, median, variance, \n",
    "# standard deviation, and SEM of the tumor volume for each regimen.\n",
    "\n",
    "#Stats are created by Groupby Drug Regimen single column of Tumor volume & aggregate stats\n",
    "#SumStats = tv_movies_df1.groupby(\"Age\")[\"IMDb\"].agg({'mean','median', 'var', 'std', 'sem'})\n",
    "tv_movies_df1[\"IMDb\"].astype(float)\n",
    "\n",
    "\n",
    "SumStats = tv_movies_df1.groupby(\"Age\")[\"IMDb\"].mean\n",
    "\n",
    "SumStats"
   ]
  },
  {
   "cell_type": "markdown",
   "metadata": {},
   "source": [
    "## Bar and Pie Charts"
   ]
  },
  {
   "cell_type": "code",
   "execution_count": 54,
   "metadata": {},
   "outputs": [
    {
     "data": {
      "image/png": "[encoded data removed]",
      "text/plain": [
       "<Figure size 432x288 with 1 Axes>"
      ]
     },
     "metadata": {
      "needs_background": "light"
     },
     "output_type": "display_data"
    }
   ],
   "source": [
    "# Generate a bar plot showing the total number of datapoints for each drug regimen using pandas.\n",
    "# There should be a single bar per regimen\n",
    "\n",
    "#dl_df.head()\n",
    "dl = (drop_df[\"Drug Regimen\"]).value_counts()\n",
    "\n",
    "dl_df = pd.DataFrame(dl)\n",
    "dl_df = dl_df.reset_index()\n",
    "\n",
    "dl_df = dl_df.rename(columns={})\n",
    "\n",
    "dl = (drop_df[\"Drug Regimen\"]).value_counts()\n",
    "#df2 = df.groupby(['timeIndex'])['isZero'].sum().to_frame('isZero').reset_index()\n",
    "dl_df = pd.DataFrame(dl)\n",
    "dl_df = dl_df.reset_index()\n",
    "\n",
    "\n",
    "\n",
    "\n",
    "#drop_df.plot(x=\"Drug Regimen\", y =\"Timepoint\", kind =\"bar\" )\n",
    "dl_df.plot(x=\"index\", y =\"Drug Regimen\", kind =\"bar\" )\n",
    "\n",
    "# Add labels to the x and y axes\n",
    "plt.title(\"Total datapoints for each Drug Regimen\")\n",
    "plt.xlabel(\"Drug types\")\n",
    "plt.ylabel(\"Drug data counts\")\n",
    "\n",
    "plt.show()"
   ]
  },
  {
   "cell_type": "code",
   "execution_count": 55,
   "metadata": {},
   "outputs": [
    {
     "data": {
      "image/png": "[encoded data removed]",
      "text/plain": [
       "<Figure size 432x288 with 1 Axes>"
      ]
     },
     "metadata": {
      "needs_background": "light"
     },
     "output_type": "display_data"
    }
   ],
   "source": [
    "# General identical bar plot using pyplot instead of pandas.\n",
    "\n",
    "drop_df.groupby(\"Drug Regimen\")[\"Timepoint\"].count().plot(kind='bar')\n",
    "\n",
    "\n",
    "plt.title(\"Total datapoints for each Drug Regimen\")\n",
    "plt.xlabel(\"Drug types\")\n",
    "plt.ylabel(\"Drug data counts\")\n",
    "\n",
    "plt.show()"
   ]
  },
  {
   "cell_type": "code",
   "execution_count": 56,
   "metadata": {},
   "outputs": [
    {
     "data": {
      "text/plain": [
       "Text(0.5, 1.0, 'Mouse counts by Sex')"
      ]
     },
     "execution_count": 56,
     "metadata": {},
     "output_type": "execute_result"
    },
    {
     "data": {
      "image/png": "[encoded data removed]",
      "text/plain": [
       "<Figure size 432x288 with 1 Axes>"
      ]
     },
     "metadata": {},
     "output_type": "display_data"
    }
   ],
   "source": [
    "# Generate a pie plot showing the distribution of female versus male mice using pandas\n",
    "\n",
    "sx = drop_df.groupby(\"Sex\")[\"Mouse ID\"].count()\n",
    "\n",
    "sx_df = pd.DataFrame(sx)\n",
    "sx_df = sx_df.reset_index()\n",
    "\n",
    "sx_df\n",
    "\n",
    "sexes = [\"Female\", \"Male\"]\n",
    "\n",
    "sx_df.plot(y=\"Mouse ID\",kind = \"pie\",autopct=\"%1.1f%%\",labels = sexes)\n",
    "\n",
    "\n",
    "plt.title(\"Mouse counts by Sex\")\n"
   ]
  },
  {
   "cell_type": "code",
   "execution_count": 57,
   "metadata": {},
   "outputs": [
    {
     "data": {
      "text/plain": [
       "Text(0, 0.5, '')"
      ]
     },
     "execution_count": 57,
     "metadata": {},
     "output_type": "execute_result"
    },
    {
     "data": {
      "image/png": "[encoded data removed]",
      "text/plain": [
       "<Figure size 432x288 with 1 Axes>"
      ]
     },
     "metadata": {},
     "output_type": "display_data"
    }
   ],
   "source": [
    "# Generate identical pie plot using pyplot\n",
    "sexes = [\"Female\", \"Male\"]\n",
    "drop_df.groupby(\"Sex\")[\"Timepoint\"].count().plot(kind='pie',autopct=\"%1.1f%%\",labels = sexes)\n",
    "plt.title(\"Mouse counts by Sex\")\n",
    "\n",
    "plt.ylabel(\"\")"
   ]
  },
  {
   "cell_type": "markdown",
   "metadata": {},
   "source": [
    "## Quartiles, Outliers and Boxplots"
   ]
  },
  {
   "cell_type": "code",
   "execution_count": 58,
   "metadata": {},
   "outputs": [
    {
     "data": {
      "text/html": [
       "<div>\n",
       "<style scoped>\n",
       "    .dataframe tbody tr th:only-of-type {\n",
       "        vertical-align: middle;\n",
       "    }\n",
       "\n",
       "    .dataframe tbody tr th {\n",
       "        vertical-align: top;\n",
       "    }\n",
       "\n",
       "    .dataframe thead th {\n",
       "        text-align: right;\n",
       "    }\n",
       "</style>\n",
       "<table border=\"1\" class=\"dataframe\">\n",
       "  <thead>\n",
       "    <tr style=\"text-align: right;\">\n",
       "      <th></th>\n",
       "      <th>Mouse ID</th>\n",
       "      <th>Timepoint</th>\n",
       "      <th>Drug Regimen</th>\n",
       "      <th>Sex</th>\n",
       "      <th>Age_months</th>\n",
       "      <th>Weight (g)</th>\n",
       "      <th>Tumor Volume (mm3)</th>\n",
       "      <th>Metastatic Sites</th>\n",
       "    </tr>\n",
       "  </thead>\n",
       "  <tbody>\n",
       "    <tr>\n",
       "      <th>0</th>\n",
       "      <td>a203</td>\n",
       "      <td>45</td>\n",
       "      <td>Infubinol</td>\n",
       "      <td>Female</td>\n",
       "      <td>20</td>\n",
       "      <td>23</td>\n",
       "      <td>67.973419</td>\n",
       "      <td>2</td>\n",
       "    </tr>\n",
       "    <tr>\n",
       "      <th>1</th>\n",
       "      <td>a251</td>\n",
       "      <td>45</td>\n",
       "      <td>Infubinol</td>\n",
       "      <td>Female</td>\n",
       "      <td>21</td>\n",
       "      <td>25</td>\n",
       "      <td>65.525743</td>\n",
       "      <td>1</td>\n",
       "    </tr>\n",
       "    <tr>\n",
       "      <th>2</th>\n",
       "      <td>a262</td>\n",
       "      <td>45</td>\n",
       "      <td>Placebo</td>\n",
       "      <td>Female</td>\n",
       "      <td>17</td>\n",
       "      <td>29</td>\n",
       "      <td>70.717621</td>\n",
       "      <td>4</td>\n",
       "    </tr>\n",
       "    <tr>\n",
       "      <th>3</th>\n",
       "      <td>a275</td>\n",
       "      <td>45</td>\n",
       "      <td>Ceftamin</td>\n",
       "      <td>Female</td>\n",
       "      <td>20</td>\n",
       "      <td>28</td>\n",
       "      <td>62.999356</td>\n",
       "      <td>3</td>\n",
       "    </tr>\n",
       "    <tr>\n",
       "      <th>4</th>\n",
       "      <td>a366</td>\n",
       "      <td>30</td>\n",
       "      <td>Stelasyn</td>\n",
       "      <td>Female</td>\n",
       "      <td>16</td>\n",
       "      <td>29</td>\n",
       "      <td>63.440686</td>\n",
       "      <td>1</td>\n",
       "    </tr>\n",
       "    <tr>\n",
       "      <th>...</th>\n",
       "      <td>...</td>\n",
       "      <td>...</td>\n",
       "      <td>...</td>\n",
       "      <td>...</td>\n",
       "      <td>...</td>\n",
       "      <td>...</td>\n",
       "      <td>...</td>\n",
       "      <td>...</td>\n",
       "    </tr>\n",
       "    <tr>\n",
       "      <th>244</th>\n",
       "      <td>z435</td>\n",
       "      <td>10</td>\n",
       "      <td>Propriva</td>\n",
       "      <td>Female</td>\n",
       "      <td>12</td>\n",
       "      <td>26</td>\n",
       "      <td>48.710661</td>\n",
       "      <td>0</td>\n",
       "    </tr>\n",
       "    <tr>\n",
       "      <th>245</th>\n",
       "      <td>z578</td>\n",
       "      <td>45</td>\n",
       "      <td>Ramicane</td>\n",
       "      <td>Male</td>\n",
       "      <td>11</td>\n",
       "      <td>16</td>\n",
       "      <td>30.638696</td>\n",
       "      <td>0</td>\n",
       "    </tr>\n",
       "    <tr>\n",
       "      <th>246</th>\n",
       "      <td>z581</td>\n",
       "      <td>45</td>\n",
       "      <td>Infubinol</td>\n",
       "      <td>Female</td>\n",
       "      <td>24</td>\n",
       "      <td>25</td>\n",
       "      <td>62.754451</td>\n",
       "      <td>3</td>\n",
       "    </tr>\n",
       "    <tr>\n",
       "      <th>247</th>\n",
       "      <td>z795</td>\n",
       "      <td>45</td>\n",
       "      <td>Naftisol</td>\n",
       "      <td>Female</td>\n",
       "      <td>13</td>\n",
       "      <td>29</td>\n",
       "      <td>65.741070</td>\n",
       "      <td>3</td>\n",
       "    </tr>\n",
       "    <tr>\n",
       "      <th>248</th>\n",
       "      <td>z969</td>\n",
       "      <td>45</td>\n",
       "      <td>Naftisol</td>\n",
       "      <td>Male</td>\n",
       "      <td>9</td>\n",
       "      <td>30</td>\n",
       "      <td>73.867845</td>\n",
       "      <td>4</td>\n",
       "    </tr>\n",
       "  </tbody>\n",
       "</table>\n",
       "<p>249 rows × 8 columns</p>\n",
       "</div>"
      ],
      "text/plain": [
       "    Mouse ID  Timepoint Drug Regimen     Sex  Age_months  Weight (g)  \\\n",
       "0       a203         45    Infubinol  Female          20          23   \n",
       "1       a251         45    Infubinol  Female          21          25   \n",
       "2       a262         45      Placebo  Female          17          29   \n",
       "3       a275         45     Ceftamin  Female          20          28   \n",
       "4       a366         30     Stelasyn  Female          16          29   \n",
       "..       ...        ...          ...     ...         ...         ...   \n",
       "244     z435         10     Propriva  Female          12          26   \n",
       "245     z578         45     Ramicane    Male          11          16   \n",
       "246     z581         45    Infubinol  Female          24          25   \n",
       "247     z795         45     Naftisol  Female          13          29   \n",
       "248     z969         45     Naftisol    Male           9          30   \n",
       "\n",
       "     Tumor Volume (mm3)  Metastatic Sites  \n",
       "0             67.973419                 2  \n",
       "1             65.525743                 1  \n",
       "2             70.717621                 4  \n",
       "3             62.999356                 3  \n",
       "4             63.440686                 1  \n",
       "..                  ...               ...  \n",
       "244           48.710661                 0  \n",
       "245           30.638696                 0  \n",
       "246           62.754451                 3  \n",
       "247           65.741070                 3  \n",
       "248           73.867845                 4  \n",
       "\n",
       "[249 rows x 8 columns]"
      ]
     },
     "execution_count": 58,
     "metadata": {},
     "output_type": "execute_result"
    }
   ],
   "source": [
    "# Calculate the final tumor volume of each mouse across four of the treatment regimens:  \n",
    "# Capomulin, Ramicane, Infubinol, and Ceftamin\n",
    "\n",
    "\n",
    "caps = drop_df.groupby([\"Mouse ID\"])\n",
    "\n",
    "#find max for each timepoint\n",
    "test3 = caps.agg({'max'})[\"Timepoint\"]\n",
    "\n",
    "#reset index\n",
    "test3 = test3.reset_index()\n",
    "\n",
    "test3.rename(columns={'max': 'Timepoint'}, inplace=True)\n",
    "\n",
    "#test 3 is dataframe of final timepoint for each mouse in study\n",
    "test3 = test3.merge(drop_df,how=\"left\",on =[\"Mouse ID\",\"Timepoint\"])\n",
    "\n",
    "test3"
   ]
  },
  {
   "cell_type": "code",
   "execution_count": 59,
   "metadata": {},
   "outputs": [
    {
     "data": {
      "image/png": "[encoded data removed]",
      "text/plain": [
       "<Figure size 432x288 with 1 Axes>"
      ]
     },
     "metadata": {
      "needs_background": "light"
     },
     "output_type": "display_data"
    }
   ],
   "source": [
    "# Generate a box plot of the final tumor volume of each mouse across four regimens of interest\n",
    "# There should be a single chart with four box plots inside it.\n",
    "\n",
    "druglist = [\"Capomulin\", \"Ramicane\", \"Infubinol\", \"Ceftamin\"]\n",
    "\n",
    "captv = []\n",
    "ramtv = []\n",
    "inftv = []\n",
    "ceftv = []\n",
    "\n",
    "#create individual drug lists/final tumor size\n",
    "for x in range(len(test3)):\n",
    "    if test3.iloc[x,2]==\"Capomulin\":\n",
    "        cap = test3.iloc[x,6]\n",
    "        captv.append(cap)\n",
    "    if test3.iloc[x,2]==\"Ramicane\":\n",
    "        ram = test3.iloc[x,6]\n",
    "        ramtv.append(ram)\n",
    "    if test3.iloc[x,2]==\"Infubinol\":\n",
    "        inf = test3.iloc[x,6]\n",
    "        inftv.append(inf)\n",
    "    if test3.iloc[x,2]==\"Ceftamin\":\n",
    "        cef= test3.iloc[x,6]\n",
    "        ceftv.append(cef)\n",
    "\n",
    "#create individual dataframes \n",
    "Capomuli_df = pd.DataFrame(captv)\n",
    "Capomuli_df.columns = [\"tumor\"]\n",
    "\n",
    "Ramicane_df = pd.DataFrame(ramtv)\n",
    "Ramicane_df.columns = [\"tumor\"]\n",
    "\n",
    "Infubinol_df = pd.DataFrame(inftv)\n",
    "Infubinol_df.columns = [\"tumor\"]\n",
    "\n",
    "Ceftamin_df = pd.DataFrame(ceftv)\n",
    "Ceftamin_df.columns = [\"tumor\"]\n",
    "\n",
    "\n",
    "#plot boxplots\n",
    "fig1, ax1 = plt.subplots()\n",
    "ax1.set_title('Final Tumor Volume per Drug Regime')\n",
    "ax1.set_ylabel('Tumor Volume (mm3)')\n",
    "\n",
    "all = [Capomuli_df[\"tumor\"],Ramicane_df[\"tumor\"],Infubinol_df[\"tumor\"],Ceftamin_df[\"tumor\"]]\n",
    "red_square = dict(markerfacecolor='r', marker='s')\n",
    "\n",
    "plt.boxplot(all,flierprops=red_square)\n",
    "ax1.set_xticklabels(druglist)\n",
    "plt.grid()\n",
    "\n",
    "plt.show()"
   ]
  },
  {
   "cell_type": "code",
   "execution_count": 60,
   "metadata": {},
   "outputs": [
    {
     "name": "stdout",
     "output_type": "stream",
     "text": [
      "The lower quartile of Capomuli is: 32.37735684\n",
      "The upper quartile of Capomuli is: 40.1592203\n",
      "The interquartile range of Capomuli is: 7.781863460000004\n",
      "The the median of Capomuli is: 38.125164399999996\n",
      "Values below 20.70456164999999 could be outliers.\n",
      "Values above 51.83201549 could be outliers.\n",
      "\n",
      "The lower quartile of Ramicane is: 31.56046955\n",
      "The upper quartile of Ramicane is: 40.65900627\n",
      "The interquartile range of Ramicane is: 9.098536719999998\n",
      "The the median of Ramicane is: 36.56165229\n",
      "Values below 17.912664470000003 could be outliers.\n",
      "Values above 54.30681135 could be outliers.\n",
      "\n",
      "The lower quartile of Infubinol is: 54.04860769\n",
      "The upper quartile of Infubinol is: 65.52574285\n",
      "The interquartile range of Infubinol is: 11.477135160000003\n",
      "The the median of Infubinol is: 60.16518046\n",
      "Values below 36.83290494999999 could be outliers.\n",
      "Values above 82.74144559000001 could be outliers.\n",
      "\n",
      "The lower quartile of Ceftamin is: 48.72207785\n",
      "The upper quartile of Ceftamin is: 64.29983003\n",
      "The interquartile range of Ceftamin is: 15.577752179999997\n",
      "The the median of Ceftamin is: 59.85195552\n",
      "Values below 25.355449580000002 could be outliers.\n",
      "Values above 87.66645829999999 could be outliers.\n"
     ]
    }
   ],
   "source": [
    "druglist = [\"Capomulin\", \"Ramicane\", \"Infubinol\", \"Ceftamin\"]\n",
    "\n",
    "captv = []\n",
    "ramtv = []\n",
    "inftv = []\n",
    "ceftv = []\n",
    "\n",
    "#create individual drug lists\n",
    "for x in range(len(test3)):\n",
    "    if test3.iloc[x,2]==\"Capomulin\":\n",
    "        cap = test3.iloc[x,6]\n",
    "        captv.append(cap)\n",
    "    if test3.iloc[x,2]==\"Ramicane\":\n",
    "        ram = test3.iloc[x,6]\n",
    "        ramtv.append(ram)\n",
    "    if test3.iloc[x,2]==\"Infubinol\":\n",
    "        inf = test3.iloc[x,6]\n",
    "        inftv.append(inf)\n",
    "    if test3.iloc[x,2]==\"Ceftamin\":\n",
    "        cef= test3.iloc[x,6]\n",
    "        ceftv.append(cef)\n",
    "\n",
    "Capomuli_df = pd.DataFrame(captv)\n",
    "Capomuli_df.columns = [\"tumor\"]\n",
    "\n",
    "Ramicane_df = pd.DataFrame(ramtv)\n",
    "Ramicane_df.columns = [\"tumor\"]\n",
    "\n",
    "Infubinol_df = pd.DataFrame(inftv)\n",
    "Infubinol_df.columns = [\"tumor\"]\n",
    "\n",
    "Ceftamin_df = pd.DataFrame(ceftv)\n",
    "Ceftamin_df.columns = [\"tumor\"]\n",
    "\n",
    "\n",
    "quartiles = Capomuli_df[\"tumor\"].quantile([.25,.5,.75])\n",
    "\n",
    "#quartiles = captv_df.quantile([.25,.5,.75])\n",
    "lowerq = quartiles[0.25]\n",
    "upperq = quartiles[0.75]\n",
    "iqr = upperq-lowerq\n",
    "    \n",
    "print(f\"The lower quartile of Capomuli is: {lowerq}\")\n",
    "print(f\"The upper quartile of Capomuli is: {upperq}\")\n",
    "print(f\"The interquartile range of Capomuli is: {iqr}\")\n",
    "print(f\"The the median of Capomuli is: {quartiles[0.5]}\")\n",
    "\n",
    "lower_bound = lowerq - (1.5*iqr)\n",
    "upper_bound = upperq + (1.5*iqr)\n",
    "print(f\"Values below {lower_bound} could be outliers.\")\n",
    "print(f\"Values above {upper_bound} could be outliers.\")\n",
    "print(\"\")\n",
    "\n",
    "quartiles = Ramicane_df[\"tumor\"].quantile([.25,.5,.75])\n",
    "\n",
    "#quartiles = captv_df.quantile([.25,.5,.75])\n",
    "lowerq = quartiles[0.25]\n",
    "upperq = quartiles[0.75]\n",
    "iqr = upperq-lowerq\n",
    "    \n",
    "print(f\"The lower quartile of Ramicane is: {lowerq}\")\n",
    "print(f\"The upper quartile of Ramicane is: {upperq}\")\n",
    "print(f\"The interquartile range of Ramicane is: {iqr}\")\n",
    "print(f\"The the median of Ramicane is: {quartiles[0.5]}\")\n",
    "\n",
    "lower_bound = lowerq - (1.5*iqr)\n",
    "upper_bound = upperq + (1.5*iqr)\n",
    "print(f\"Values below {lower_bound} could be outliers.\")\n",
    "print(f\"Values above {upper_bound} could be outliers.\")\n",
    "print(\"\")\n",
    "\n",
    "quartiles = Infubinol_df[\"tumor\"].quantile([.25,.5,.75])\n",
    "\n",
    "#quartiles = captv_df.quantile([.25,.5,.75])\n",
    "lowerq = quartiles[0.25]\n",
    "upperq = quartiles[0.75]\n",
    "iqr = upperq-lowerq\n",
    "    \n",
    "print(f\"The lower quartile of Infubinol is: {lowerq}\")\n",
    "print(f\"The upper quartile of Infubinol is: {upperq}\")\n",
    "print(f\"The interquartile range of Infubinol is: {iqr}\")\n",
    "print(f\"The the median of Infubinol is: {quartiles[0.5]}\")\n",
    "\n",
    "lower_bound = lowerq - (1.5*iqr)\n",
    "upper_bound = upperq + (1.5*iqr)\n",
    "print(f\"Values below {lower_bound} could be outliers.\")\n",
    "print(f\"Values above {upper_bound} could be outliers.\")\n",
    "print(\"\")\n",
    "\n",
    "quartiles = Ceftamin_df[\"tumor\"].quantile([.25,.5,.75])\n",
    "\n",
    "#quartiles = captv_df.quantile([.25,.5,.75])\n",
    "lowerq = quartiles[0.25]\n",
    "upperq = quartiles[0.75]\n",
    "iqr = upperq-lowerq\n",
    "    \n",
    "print(f\"The lower quartile of Ceftamin is: {lowerq}\")\n",
    "print(f\"The upper quartile of Ceftamin is: {upperq}\")\n",
    "print(f\"The interquartile range of Ceftamin is: {iqr}\")\n",
    "print(f\"The the median of Ceftamin is: {quartiles[0.5]}\")\n",
    "\n",
    "lower_bound = lowerq - (1.5*iqr)\n",
    "upper_bound = upperq + (1.5*iqr)\n",
    "print(f\"Values below {lower_bound} could be outliers.\")\n",
    "print(f\"Values above {upper_bound} could be outliers.\")\n"
   ]
  },
  {
   "cell_type": "markdown",
   "metadata": {},
   "source": [
    "## Line and Scatter Plots"
   ]
  },
  {
   "cell_type": "code",
   "execution_count": 61,
   "metadata": {},
   "outputs": [
    {
     "data": {
      "image/png": "[encoded data removed]",
      "text/plain": [
       "<Figure size 432x288 with 1 Axes>"
      ]
     },
     "metadata": {
      "needs_background": "light"
     },
     "output_type": "display_data"
    }
   ],
   "source": [
    "# Generate a line plot of tumor volume vs. time point for a single mouse \n",
    "# treated with Capomulin\n",
    "\n",
    "#create Capomulin only dataframe\n",
    "cap_a = drop_df.loc[drop_df[\"Drug Regimen\"] == \"Capomulin\"]\n",
    "\n",
    "#choose a randon mouse id from Capomulin list\n",
    "random_mouse = cap_a.iloc[44,0]\n",
    "\n",
    "#get df of all timepoints for unique mouse id\n",
    "cap_id = drop_df.loc[drop_df[\"Mouse ID\"] == random_mouse]\n",
    "\n",
    "#create x & y axis & label plot\n",
    "x_axis = cap_id[\"Timepoint\"]\n",
    "y_axis = cap_id[\"Tumor Volume (mm3)\"]\n",
    "\n",
    "plt.plot(x_axis, y_axis)\n",
    "\n",
    "plt.title(f\"Tumor volume vs Timepoint for Mouse {random_mouse}\")\n",
    "plt.xlabel(\"Timepoint\")\n",
    "plt.ylabel(\"Tumor Volume (mm3)\")\n",
    "plt.show()\n"
   ]
  },
  {
   "cell_type": "code",
   "execution_count": 62,
   "metadata": {},
   "outputs": [
    {
     "data": {
      "image/png": "[encoded data removed]",
      "text/plain": [
       "<Figure size 432x288 with 1 Axes>"
      ]
     },
     "metadata": {
      "needs_background": "light"
     },
     "output_type": "display_data"
    }
   ],
   "source": [
    "# Generate a scatter plot of average tumor volume vs. mouse weight \n",
    "# for all mice in the Capomulin regimen\n",
    "\n",
    "#create Capomulin only dataframe\n",
    "cap_all = drop_df.loc[drop_df[\"Drug Regimen\"] == \"Capomulin\"]\n",
    "\n",
    "#create Capomulin average on mouse id\n",
    "cap_avg = cap_all.groupby([\"Mouse ID\"]).mean()\n",
    "\n",
    "#plot scatterplot & label\n",
    "plt.scatter(cap_avg[\"Weight (g)\"],cap_avg[\"Tumor Volume (mm3)\"])\n",
    "plt.title(\"Average tumor volume vs mouse weight for Capomulin\")\n",
    "plt.xlabel(\"Weight in grams\")\n",
    "plt.ylabel(\"Average Tumor Volume (mm3)\")\n",
    "plt.show()"
   ]
  },
  {
   "cell_type": "markdown",
   "metadata": {},
   "source": [
    "## Correlation and Regression"
   ]
  },
  {
   "cell_type": "code",
   "execution_count": 63,
   "metadata": {},
   "outputs": [
    {
     "name": "stdout",
     "output_type": "stream",
     "text": [
      "The correlation coefficient of mouse weight & average tumor volume is 0.84\n"
     ]
    },
    {
     "data": {
      "image/png": "[encoded data removed]",
      "text/plain": [
       "<Figure size 432x288 with 1 Axes>"
      ]
     },
     "metadata": {
      "needs_background": "light"
     },
     "output_type": "display_data"
    }
   ],
   "source": [
    "# Calculate the correlation coefficient and linear regression model \n",
    "# for mouse weight and average tumor volume for the Capomulin regimen\n",
    "\n",
    "#calculate correl coeff\n",
    "correl = round(st.pearsonr(cap_avg[\"Weight (g)\"], cap_avg[\"Tumor Volume (mm3)\"])[0],2)\n",
    "print(f\"The correlation coefficient of mouse weight & average tumor volume is {correl}\")\n",
    "\n",
    "#x values\n",
    "x_values = cap_avg[\"Weight (g)\"]\n",
    "\n",
    "#calculate scatter & linear regress values\n",
    "(slope, intercept, rvalue, pvalue, stderr) = linregress(cap_avg[\"Weight (g)\"],cap_avg[\"Tumor Volume (mm3)\"])\n",
    "regress_values = x_values * slope + intercept\n",
    "line_eq = \"y = \" + str(round(slope,2)) + \"x + \" + str(round(intercept,2))\n",
    "plt.plot(cap_avg[\"Weight (g)\"],regress_values,\"r-\")\n",
    "plt.scatter(cap_avg[\"Weight (g)\"],cap_avg[\"Tumor Volume (mm3)\"])\n",
    "\n",
    "#label\n",
    "plt.title(\"Average tumor volume vs mouse weight for Capomulin\")\n",
    "plt.xlabel(\"Weight in grams\")\n",
    "plt.ylabel(\"Average Tumor Volume (mm3)\")\n",
    "\n",
    "plt.show()\n"
   ]
  },
  {
   "cell_type": "markdown",
   "metadata": {},
   "source": [
    "# Observations and Insights"
   ]
  },
  {
   "cell_type": "markdown",
   "metadata": {},
   "source": []
  }
 ],
 "metadata": {
  "anaconda-cloud": {},
  "kernelspec": {
   "display_name": "Python 3",
   "language": "python",
   "name": "python3"
  },
  "language_info": {
   "codemirror_mode": {
    "name": "ipython",
    "version": 3
   },
   "file_extension": ".py",
   "mimetype": "text/x-python",
   "name": "python",
   "nbconvert_exporter": "python",
   "pygments_lexer": "ipython3",
   "version": "3.6.10"
  },
  "toc": {
   "base_numbering": 1,
   "nav_menu": {},
   "number_sections": true,
   "sideBar": true,
   "skip_h1_title": false,
   "title_cell": "Table of Contents",
   "title_sidebar": "Contents",
   "toc_cell": false,
   "toc_position": {},
   "toc_section_display": true,
   "toc_window_display": false
  },
  "varInspector": {
   "cols": {
    "lenName": 16,
    "lenType": 16,
    "lenVar": 40
   },
   "kernels_config": {
    "python": {
     "delete_cmd_postfix": "",
     "delete_cmd_prefix": "del ",
     "library": "var_list.py",
     "varRefreshCmd": "print(var_dic_list())"
    },
    "r": {
     "delete_cmd_postfix": ") ",
     "delete_cmd_prefix": "rm(",
     "library": "var_list.r",
     "varRefreshCmd": "cat(var_dic_list()) "
    }
   },
   "types_to_exclude": [
    "module",
    "function",
    "builtin_function_or_method",
    "instance",
    "_Feature"
   ],
   "window_display": false
  }
 },
 "nbformat": 4,
 "nbformat_minor": 4
}
